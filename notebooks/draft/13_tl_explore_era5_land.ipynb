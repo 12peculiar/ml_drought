{
 "cells": [
  {
   "cell_type": "code",
   "execution_count": 1,
   "metadata": {},
   "outputs": [],
   "source": [
    "import xarray as xr\n",
    "import numpy as np\n",
    "import pandas as pd\n",
    "import matplotlib.pyplot as plt\n",
    "from pathlib import Path\n",
    "import seaborn as sns\n",
    "\n",
    "import os\n",
    "if Path('.').absolute().parents[1].name == 'ml_drought':\n",
    "    os.chdir(Path('.').absolute().parents[1])\n",
    "\n",
    "from scripts.plotting_utils import (\n",
    "    plot_geog_location, plot_xarray_on_map, \n",
    ")\n",
    "\n",
    "from src.utils import drop_nans_and_flatten\n",
    "\n",
    "%matplotlib inline\n",
    "\n",
    "%load_ext autoreload\n",
    "%autoreload 2"
   ]
  },
  {
   "cell_type": "code",
   "execution_count": 5,
   "metadata": {},
   "outputs": [
    {
     "data": {
      "text/plain": [
       "['chirps_preprocessed',\n",
       " 'era5_land_interim',\n",
       " 'era5_land_preprocessed',\n",
       " 'era5POS_preprocessed',\n",
       " 'esa_cci_landcover_preprocessed',\n",
       " 'gcloud',\n",
       " 'gleam_preprocessed',\n",
       " 'reanalysis-era5-land_preprocessed',\n",
       " 's5_interim',\n",
       " 's5_preprocessed',\n",
       " 'TEMP',\n",
       " 'vhi_interim',\n",
       " 'vhi_preprocessed']"
      ]
     },
     "execution_count": 5,
     "metadata": {},
     "output_type": "execute_result"
    }
   ],
   "source": [
    "# set data and plot dir\n",
    "if Path('.').absolute().owner() == 'tommylees':\n",
    "    data_dir = Path('/Volumes/Lees_Extend/data/ecmwf_sowc/data')\n",
    "    plot_dir = Path('/Users/tommylees/Downloads')\n",
    "else:\n",
    "    data_dir = Path('data')\n",
    "    plot_dir = Path('.')  # ???\n",
    "\n",
    "data_path = data_dir / \"interim\" / \"chirps_preprocessed\" / \"chirps_kenya.nc\"\n",
    "analysis_path = data_dir / \"analysis\" \n",
    "all_indices_path = analysis_path / \"indices\" / \"all_indices_kenya.nc\"\n",
    "vhi_path = data_dir / \"interim\" / \"vhi_preprocessed\" / \"vhi_kenya.nc\"\n",
    "gleam_path = data_dir / \"interim\" / \"gleam_preprocessed\" / \"gleam_kenya.nc\"\n",
    "era5_path = data_dir / \"interim\" / \"era5POS_preprocessed\" / \"era5POS_kenya.nc\"\n",
    "era5_land_path = data_dir / \"interim\" / \"reanalysis-era5-land_preprocessed\" / \"reanalysis-era5-land_kenya.nc\"\n",
    "\n",
    "[d.name for d in (data_dir/'interim').iterdir()]"
   ]
  },
  {
   "cell_type": "code",
   "execution_count": 7,
   "metadata": {},
   "outputs": [
    {
     "data": {
      "text/plain": [
       "<xarray.Dataset>\n",
       "Dimensions:  (lat: 113, lon: 87, time: 12)\n",
       "Coordinates:\n",
       "  * time     (time) datetime64[ns] 2018-01-31 2018-02-28 ... 2018-12-31\n",
       "  * lon      (lon) float32 33.6 33.7 33.8 33.9 34.0 ... 41.8 41.9 42.0 42.1 42.2\n",
       "  * lat      (lat) float32 6.0 5.9 5.8 5.7 5.6 5.5 ... -4.8 -4.9 -5.0 -5.1 -5.2\n",
       "Data variables:\n",
       "    tp       (time, lat, lon) float32 ..."
      ]
     },
     "execution_count": 7,
     "metadata": {},
     "output_type": "execute_result"
    }
   ],
   "source": [
    "ds = xr.open_dataset(era5_land_path)\n",
    "ds"
   ]
  },
  {
   "cell_type": "code",
   "execution_count": null,
   "metadata": {},
   "outputs": [],
   "source": [
    "fig, ax = plt.subplots(figsize=(12, 8))\n",
    "ds"
   ]
  }
 ],
 "metadata": {
  "kernelspec": {
   "display_name": "Python 3",
   "language": "python",
   "name": "python3"
  },
  "language_info": {
   "codemirror_mode": {
    "name": "ipython",
    "version": 3
   },
   "file_extension": ".py",
   "mimetype": "text/x-python",
   "name": "python",
   "nbconvert_exporter": "python",
   "pygments_lexer": "ipython3",
   "version": "3.7.0"
  }
 },
 "nbformat": 4,
 "nbformat_minor": 2
}
