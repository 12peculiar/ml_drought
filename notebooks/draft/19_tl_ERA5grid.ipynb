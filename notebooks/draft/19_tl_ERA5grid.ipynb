{
 "cells": [
  {
   "cell_type": "code",
   "execution_count": 1,
   "metadata": {},
   "outputs": [
    {
     "name": "stdout",
     "output_type": "stream",
     "text": [
      "/Users/tommylees/github/ml_drought\n"
     ]
    }
   ],
   "source": [
    "from pathlib import Path\n",
    "import os\n",
    "import warnings\n",
    "\n",
    "%load_ext autoreload\n",
    "%autoreload\n",
    "\n",
    "# ignore warnings for now ...\n",
    "warnings.filterwarnings('ignore')\n",
    "\n",
    "if Path('.').absolute().parents[1].name == 'ml_drought':\n",
    "    os.chdir(Path('.').absolute().parents[1])\n",
    "\n",
    "!pwd"
   ]
  },
  {
   "cell_type": "code",
   "execution_count": 2,
   "metadata": {},
   "outputs": [],
   "source": [
    "import xarray as xr\n",
    "import pandas as pd\n",
    "import numpy as np\n",
    "import matplotlib.pyplot as plt\n",
    "import pickle\n",
    "\n",
    "data_dir = Path('data/zip_data')\n",
    "data_dir = Path('data/')\n",
    "# data_dir = Path('/Volumes/Lees_Extend/data/zip_data')\n",
    "data_dir = Path('/Volumes/Lees_Extend/data/ecmwf_sowc/data/')\n",
    "\n",
    "assert data_dir.exists()"
   ]
  },
  {
   "cell_type": "markdown",
   "metadata": {},
   "source": [
    "# assess model performances\n",
    "\n",
    "Looking at how the different algorithms compared on the ERA5 grid"
   ]
  },
  {
   "cell_type": "code",
   "execution_count": 3,
   "metadata": {},
   "outputs": [
    {
     "ename": "ImportError",
     "evalue": "cannot import name 'annual_scores' from 'src.analysis' (/Users/tommylees/github/ml_drought/src/analysis/__init__.py)",
     "output_type": "error",
     "traceback": [
      "\u001b[0;31m---------------------------------------------------------------------------\u001b[0m",
      "\u001b[0;31mImportError\u001b[0m                               Traceback (most recent call last)",
      "\u001b[0;32m<ipython-input-3-2d2c455d08e1>\u001b[0m in \u001b[0;36m<module>\u001b[0;34m\u001b[0m\n\u001b[0;32m----> 1\u001b[0;31m \u001b[0;32mfrom\u001b[0m \u001b[0msrc\u001b[0m\u001b[0;34m.\u001b[0m\u001b[0manalysis\u001b[0m \u001b[0;32mimport\u001b[0m \u001b[0mannual_scores\u001b[0m\u001b[0;34m\u001b[0m\u001b[0m\n\u001b[0m\u001b[1;32m      2\u001b[0m \u001b[0;34m\u001b[0m\u001b[0m\n\u001b[1;32m      3\u001b[0m \u001b[0;34m[\u001b[0m\u001b[0mf\u001b[0m\u001b[0;34m.\u001b[0m\u001b[0mname\u001b[0m \u001b[0;32mfor\u001b[0m \u001b[0mf\u001b[0m \u001b[0;32min\u001b[0m \u001b[0;34m(\u001b[0m\u001b[0mdata_dir\u001b[0m \u001b[0;34m/\u001b[0m \u001b[0;34m'models'\u001b[0m \u001b[0;34m/\u001b[0m \u001b[0;34m'one_month_forecast'\u001b[0m\u001b[0;34m)\u001b[0m\u001b[0;34m.\u001b[0m\u001b[0miterdir\u001b[0m\u001b[0;34m(\u001b[0m\u001b[0;34m)\u001b[0m\u001b[0;34m]\u001b[0m\u001b[0;34m\u001b[0m\u001b[0m\n",
      "\u001b[0;31mImportError\u001b[0m: cannot import name 'annual_scores' from 'src.analysis' (/Users/tommylees/github/ml_drought/src/analysis/__init__.py)"
     ]
    }
   ],
   "source": [
    "from src.analysis import annual_scores\n",
    "\n",
    "[f.name for f in (data_dir / 'models' / 'one_month_forecast').iterdir()]"
   ]
  },
  {
   "cell_type": "code",
   "execution_count": null,
   "metadata": {},
   "outputs": [],
   "source": [
    "# load the monthly scores dictionary\n",
    "monthly_scores = annual_scores(\n",
    "    data_path=data_dir,\n",
    "    models=['previous_month', 'ealstm', 'ealstm_ERA5_128', 'rnn'],\n",
    "    metrics=['rmse', 'r2'],\n",
    "    verbose=False,\n",
    "    to_dataframe=True\n",
    ")"
   ]
  },
  {
   "cell_type": "code",
   "execution_count": null,
   "metadata": {},
   "outputs": [],
   "source": [
    "ax = (\n",
    "    monthly_scores\n",
    "    .where(monthly_scores.metric == 'rmse')\n",
    "    .drop(columns=['year', 'metric'])\n",
    ").plot('month')\n",
    "\n",
    "ax.set_title('Intercomparison of Predictions')\n",
    "ax.set_ylabel('VCI RMSE')"
   ]
  },
  {
   "cell_type": "markdown",
   "metadata": {},
   "source": [
    "# view the spatial predictions any patterns?"
   ]
  },
  {
   "cell_type": "code",
   "execution_count": null,
   "metadata": {},
   "outputs": [],
   "source": [
    "monthly_scores.head()"
   ]
  },
  {
   "cell_type": "code",
   "execution_count": null,
   "metadata": {},
   "outputs": [],
   "source": [
    "from src.analysis import read_pred_data, read_true_data"
   ]
  },
  {
   "cell_type": "code",
   "execution_count": null,
   "metadata": {},
   "outputs": [],
   "source": [
    "ealstm_256 = read_pred_data('ealstm', data_dir=data_dir)[0]\n",
    "ealstm_128 = read_pred_data('ealstm_ERA5_128', data_dir=data_dir)[0]\n",
    "previous_month = read_pred_data('previous_month', data_dir=data_dir)[0]\n",
    "rnn = read_pred_data('rnn', data_dir=data_dir)[0]\n",
    "\n",
    "obs = read_true_data(data_dir=data_dir)"
   ]
  },
  {
   "cell_type": "code",
   "execution_count": null,
   "metadata": {},
   "outputs": [],
   "source": [
    "fig, axs = plt.subplots(2, 2, figsize=(12, 8), sharey=True)\n",
    "obs.plot(alpha=0.6, label='observation', ax=axs[0,0]);\n",
    "ealstm_128.preds.plot(alpha=0.6, label='ealstm_128', ax=axs[0,0]);\n",
    "axs[0,0].set_title('EALSTM_128')\n",
    "\n",
    "obs.plot(alpha=0.6, label='observation', ax=axs[0,1]);\n",
    "ealstm_256.preds.plot(alpha=0.6, label='ealstm_256', ax=axs[0,1]);\n",
    "axs[0,1].set_title('EALSTM_256')\n",
    "\n",
    "obs.plot(alpha=0.6, label='observation', ax=axs[1,0]);\n",
    "previous_month.preds.plot(alpha=0.6, label='previous_month', ax=axs[1,0]);\n",
    "axs[1,0].set_title('Previous Month')\n",
    "\n",
    "obs.plot(alpha=0.6, label='observation', ax=axs[1,1]);\n",
    "rnn.preds.plot(alpha=0.6, label='rnn', ax=axs[1,1]);\n",
    "axs[1,1].set_title('RNN')\n",
    "plt.legend()\n",
    "\n",
    "plt.tight_layout()"
   ]
  },
  {
   "cell_type": "markdown",
   "metadata": {},
   "source": [
    "# spatial predictions"
   ]
  },
  {
   "cell_type": "code",
   "execution_count": null,
   "metadata": {},
   "outputs": [],
   "source": [
    "ealstm_256.isel(time=0).preds.plot()"
   ]
  },
  {
   "cell_type": "code",
   "execution_count": null,
   "metadata": {},
   "outputs": [],
   "source": [
    "obs.isel(time=0).plot()"
   ]
  },
  {
   "cell_type": "markdown",
   "metadata": {},
   "source": [
    "# analysis by region"
   ]
  },
  {
   "cell_type": "code",
   "execution_count": null,
   "metadata": {},
   "outputs": [],
   "source": [
    "from src.analysis import AdministrativeRegionAnalysis\n",
    "# from src.analysis import KenyaGroupbyRegion"
   ]
  },
  {
   "cell_type": "code",
   "execution_count": null,
   "metadata": {},
   "outputs": [],
   "source": [
    "warnings.filterwarnings('ignore')\n",
    "\n",
    "analyzer = AdministrativeRegionAnalysis(data_dir=data_dir)\n",
    "analyzer.analyze()"
   ]
  },
  {
   "cell_type": "code",
   "execution_count": null,
   "metadata": {},
   "outputs": [],
   "source": []
  },
  {
   "cell_type": "code",
   "execution_count": 19,
   "metadata": {},
   "outputs": [
    {
     "name": "stdout",
     "output_type": "stream",
     "text": [
      "The RegionGeoPlotter requires `geopandas` to be installed.\n",
      "GroupbyRegion requires geopandas to be installed\n",
      "Reading file: KEN_admin2_2002_DEPHA.shp\n",
      "Reading file: Ken_Districts.shp\n",
      "Reading file: Ken_Divisions.shp\n",
      "Reading file: Kenya wards.shp\n",
      "Reading file: Ken_Locations.shp\n",
      "Reading file: Ken_Sublocations.shp\n",
      "* Read shapefiles and stored in `RegionGeoPlotter.region_gdfs` *\n",
      "* Assigned the complete GeoDataFrame to `RegionGeoPlotter.gdf`\n"
     ]
    },
    {
     "data": {
      "text/html": [
       "<div>\n",
       "<style scoped>\n",
       "    .dataframe tbody tr th:only-of-type {\n",
       "        vertical-align: middle;\n",
       "    }\n",
       "\n",
       "    .dataframe tbody tr th {\n",
       "        vertical-align: top;\n",
       "    }\n",
       "\n",
       "    .dataframe thead th {\n",
       "        text-align: right;\n",
       "    }\n",
       "</style>\n",
       "<table border=\"1\" class=\"dataframe\">\n",
       "  <thead>\n",
       "    <tr style=\"text-align: right;\">\n",
       "      <th></th>\n",
       "      <th>model</th>\n",
       "      <th>admin_level_name</th>\n",
       "      <th>region_name</th>\n",
       "      <th>rmse</th>\n",
       "      <th>mae</th>\n",
       "      <th>r2</th>\n",
       "      <th>DISTNAME</th>\n",
       "      <th>geometry</th>\n",
       "    </tr>\n",
       "  </thead>\n",
       "  <tbody>\n",
       "    <tr>\n",
       "      <th>0</th>\n",
       "      <td>ealstm</td>\n",
       "      <td>district_l2_kenya</td>\n",
       "      <td>NAIROBI</td>\n",
       "      <td>13.034867</td>\n",
       "      <td>9.907392</td>\n",
       "      <td>-0.674941</td>\n",
       "      <td>NAIROBI</td>\n",
       "      <td>POLYGON ((36.90575473150634 -1.159051062893981...</td>\n",
       "    </tr>\n",
       "    <tr>\n",
       "      <th>1</th>\n",
       "      <td>previous_month</td>\n",
       "      <td>district_l2_kenya</td>\n",
       "      <td>NAIROBI</td>\n",
       "      <td>11.051595</td>\n",
       "      <td>9.795107</td>\n",
       "      <td>-0.204027</td>\n",
       "      <td>NAIROBI</td>\n",
       "      <td>POLYGON ((36.90575473150634 -1.159051062893981...</td>\n",
       "    </tr>\n",
       "    <tr>\n",
       "      <th>2</th>\n",
       "      <td>ealstm</td>\n",
       "      <td>district_l2_kenya</td>\n",
       "      <td>SAMBURU</td>\n",
       "      <td>6.926626</td>\n",
       "      <td>5.606387</td>\n",
       "      <td>0.573924</td>\n",
       "      <td>SAMBURU</td>\n",
       "      <td>POLYGON ((36.75165473150634 2.519848937106019,...</td>\n",
       "    </tr>\n",
       "    <tr>\n",
       "      <th>3</th>\n",
       "      <td>previous_month</td>\n",
       "      <td>district_l2_kenya</td>\n",
       "      <td>SAMBURU</td>\n",
       "      <td>7.961759</td>\n",
       "      <td>5.947568</td>\n",
       "      <td>0.437061</td>\n",
       "      <td>SAMBURU</td>\n",
       "      <td>POLYGON ((36.75165473150634 2.519848937106019,...</td>\n",
       "    </tr>\n",
       "    <tr>\n",
       "      <th>4</th>\n",
       "      <td>ealstm</td>\n",
       "      <td>district_l2_kenya</td>\n",
       "      <td>TRANS MARA</td>\n",
       "      <td>9.777603</td>\n",
       "      <td>7.809506</td>\n",
       "      <td>-0.072351</td>\n",
       "      <td>TRANS MARA</td>\n",
       "      <td>POLYGON ((35.15025473150634 -0.959251062893981...</td>\n",
       "    </tr>\n",
       "  </tbody>\n",
       "</table>\n",
       "</div>"
      ],
      "text/plain": [
       "            model   admin_level_name region_name       rmse       mae  \\\n",
       "0          ealstm  district_l2_kenya     NAIROBI  13.034867  9.907392   \n",
       "1  previous_month  district_l2_kenya     NAIROBI  11.051595  9.795107   \n",
       "2          ealstm  district_l2_kenya     SAMBURU   6.926626  5.606387   \n",
       "3  previous_month  district_l2_kenya     SAMBURU   7.961759  5.947568   \n",
       "4          ealstm  district_l2_kenya  TRANS MARA   9.777603  7.809506   \n",
       "\n",
       "         r2    DISTNAME                                           geometry  \n",
       "0 -0.674941     NAIROBI  POLYGON ((36.90575473150634 -1.159051062893981...  \n",
       "1 -0.204027     NAIROBI  POLYGON ((36.90575473150634 -1.159051062893981...  \n",
       "2  0.573924     SAMBURU  POLYGON ((36.75165473150634 2.519848937106019,...  \n",
       "3  0.437061     SAMBURU  POLYGON ((36.75165473150634 2.519848937106019,...  \n",
       "4 -0.072351  TRANS MARA  POLYGON ((35.15025473150634 -0.959251062893981...  "
      ]
     },
     "execution_count": 19,
     "metadata": {},
     "output_type": "execute_result"
    }
   ],
   "source": [
    "# extract a GeoDataFrame that we can plot\n",
    "region_plotter = analyzer.create_model_performance_by_region_geodataframe()\n",
    "metric_gdf = region_plotter.gdf\n",
    "metric_gdf.head()"
   ]
  },
  {
   "cell_type": "markdown",
   "metadata": {},
   "source": [
    "### How does the error vary in each region?"
   ]
  },
  {
   "cell_type": "code",
   "execution_count": 20,
   "metadata": {},
   "outputs": [
    {
     "data": {
      "image/png": "[encoded data removed]",
      "text/plain": [
       "<Figure size 864x576 with 6 Axes>"
      ]
     },
     "metadata": {
      "needs_background": "light"
     },
     "output_type": "display_data"
    }
   ],
   "source": [
    "region_plotter.plot_all_regional_error_metrics(metric_gdf);"
   ]
  },
  {
   "cell_type": "markdown",
   "metadata": {},
   "source": [
    "### How do we do when we compare to the [Adede et al 2019](https://www.mdpi.com/2072-4292/11/9/1099/htm) paper?\n",
    "\n",
    "The paper presents $R^2$ results for four districts:\n",
    "- Mandera - 0.71\n",
    "- Marsabit - 0.77\n",
    "- Turkana - 0.83\n",
    "- Wajir - 0.71\n",
    "\n",
    "These are defined as Arid and Semi Arid Lands (ASAL) districts. They are actively monitored by the National Drought Management Authority."
   ]
  },
  {
   "cell_type": "code",
   "execution_count": 21,
   "metadata": {},
   "outputs": [
    {
     "name": "stdout",
     "output_type": "stream",
     "text": [
      "* Assigned the complete GeoDataFrame to `RegionGeoPlotter.gdf`\n"
     ]
    },
    {
     "data": {
      "text/html": [
       "<div>\n",
       "<style scoped>\n",
       "    .dataframe tbody tr th:only-of-type {\n",
       "        vertical-align: middle;\n",
       "    }\n",
       "\n",
       "    .dataframe tbody tr th {\n",
       "        vertical-align: top;\n",
       "    }\n",
       "\n",
       "    .dataframe thead th {\n",
       "        text-align: right;\n",
       "    }\n",
       "</style>\n",
       "<table border=\"1\" class=\"dataframe\">\n",
       "  <thead>\n",
       "    <tr style=\"text-align: right;\">\n",
       "      <th></th>\n",
       "      <th>admin_level_name</th>\n",
       "      <th>model</th>\n",
       "      <th>datetime</th>\n",
       "      <th>region_name</th>\n",
       "      <th>predicted_mean_value</th>\n",
       "      <th>true_mean_value</th>\n",
       "      <th>DISTNAME</th>\n",
       "      <th>geometry</th>\n",
       "    </tr>\n",
       "  </thead>\n",
       "  <tbody>\n",
       "    <tr>\n",
       "      <th>0</th>\n",
       "      <td>district_l2_kenya</td>\n",
       "      <td>ealstm</td>\n",
       "      <td>2018-01-31</td>\n",
       "      <td>NAIROBI</td>\n",
       "      <td>27.561455</td>\n",
       "      <td>23.551954</td>\n",
       "      <td>NAIROBI</td>\n",
       "      <td>POLYGON ((36.90575473150634 -1.159051062893981...</td>\n",
       "    </tr>\n",
       "    <tr>\n",
       "      <th>1</th>\n",
       "      <td>district_l2_kenya</td>\n",
       "      <td>previous_month</td>\n",
       "      <td>2018-01-31</td>\n",
       "      <td>NAIROBI</td>\n",
       "      <td>32.159204</td>\n",
       "      <td>23.551954</td>\n",
       "      <td>NAIROBI</td>\n",
       "      <td>POLYGON ((36.90575473150634 -1.159051062893981...</td>\n",
       "    </tr>\n",
       "    <tr>\n",
       "      <th>2</th>\n",
       "      <td>district_l2_kenya</td>\n",
       "      <td>previous_month</td>\n",
       "      <td>2018-02-28</td>\n",
       "      <td>NAIROBI</td>\n",
       "      <td>23.551954</td>\n",
       "      <td>20.263123</td>\n",
       "      <td>NAIROBI</td>\n",
       "      <td>POLYGON ((36.90575473150634 -1.159051062893981...</td>\n",
       "    </tr>\n",
       "    <tr>\n",
       "      <th>3</th>\n",
       "      <td>district_l2_kenya</td>\n",
       "      <td>ealstm</td>\n",
       "      <td>2018-02-28</td>\n",
       "      <td>NAIROBI</td>\n",
       "      <td>29.441332</td>\n",
       "      <td>20.263123</td>\n",
       "      <td>NAIROBI</td>\n",
       "      <td>POLYGON ((36.90575473150634 -1.159051062893981...</td>\n",
       "    </tr>\n",
       "    <tr>\n",
       "      <th>4</th>\n",
       "      <td>district_l2_kenya</td>\n",
       "      <td>previous_month</td>\n",
       "      <td>2018-03-31</td>\n",
       "      <td>NAIROBI</td>\n",
       "      <td>20.263125</td>\n",
       "      <td>29.301306</td>\n",
       "      <td>NAIROBI</td>\n",
       "      <td>POLYGON ((36.90575473150634 -1.159051062893981...</td>\n",
       "    </tr>\n",
       "  </tbody>\n",
       "</table>\n",
       "</div>"
      ],
      "text/plain": [
       "    admin_level_name           model   datetime region_name  \\\n",
       "0  district_l2_kenya          ealstm 2018-01-31     NAIROBI   \n",
       "1  district_l2_kenya  previous_month 2018-01-31     NAIROBI   \n",
       "2  district_l2_kenya  previous_month 2018-02-28     NAIROBI   \n",
       "3  district_l2_kenya          ealstm 2018-02-28     NAIROBI   \n",
       "4  district_l2_kenya  previous_month 2018-03-31     NAIROBI   \n",
       "\n",
       "   predicted_mean_value  true_mean_value DISTNAME  \\\n",
       "0             27.561455        23.551954  NAIROBI   \n",
       "1             32.159204        23.551954  NAIROBI   \n",
       "2             23.551954        20.263123  NAIROBI   \n",
       "3             29.441332        20.263123  NAIROBI   \n",
       "4             20.263125        29.301306  NAIROBI   \n",
       "\n",
       "                                            geometry  \n",
       "0  POLYGON ((36.90575473150634 -1.159051062893981...  \n",
       "1  POLYGON ((36.90575473150634 -1.159051062893981...  \n",
       "2  POLYGON ((36.90575473150634 -1.159051062893981...  \n",
       "3  POLYGON ((36.90575473150634 -1.159051062893981...  \n",
       "4  POLYGON ((36.90575473150634 -1.159051062893981...  "
      ]
     },
     "execution_count": 21,
     "metadata": {},
     "output_type": "execute_result"
    }
   ],
   "source": [
    "# join true/preds into a GeoDataFrame\n",
    "gdf = region_plotter.merge_all_model_performances_gdfs(analyzer.df)\n",
    "gdf.head()"
   ]
  }
 ],
 "metadata": {
  "kernelspec": {
   "display_name": "Python 3",
   "language": "python",
   "name": "python3"
  },
  "language_info": {
   "codemirror_mode": {
    "name": "ipython",
    "version": 3
   },
   "file_extension": ".py",
   "mimetype": "text/x-python",
   "name": "python",
   "nbconvert_exporter": "python",
   "pygments_lexer": "ipython3",
   "version": "3.7.0"
  }
 },
 "nbformat": 4,
 "nbformat_minor": 2
}
