{
 "cells": [
  {
   "cell_type": "code",
   "execution_count": 153,
   "metadata": {},
   "outputs": [
    {
     "name": "stdout",
     "output_type": "stream",
     "text": [
      "The autoreload extension is already loaded. To reload it, use:\n",
      "  %reload_ext autoreload\n"
     ]
    }
   ],
   "source": [
    "from pathlib import Path\n",
    "import os\n",
    "import warnings\n",
    "import sys\n",
    "from pprint import pprint\n",
    "\n",
    "%load_ext autoreload\n",
    "%autoreload\n",
    "\n",
    "# ignore warnings for now ...\n",
    "warnings.filterwarnings('ignore')\n",
    "\n",
    "os.chdir('/Users/tommylees/github/ml_drought')"
   ]
  },
  {
   "cell_type": "code",
   "execution_count": 55,
   "metadata": {},
   "outputs": [],
   "source": [
    "import xarray as xr\n",
    "import pandas as pd\n",
    "import numpy as np\n",
    "import matplotlib.pyplot as plt"
   ]
  },
  {
   "cell_type": "code",
   "execution_count": 133,
   "metadata": {},
   "outputs": [],
   "source": [
    "from src.exporters import ERA5Exporter, VHIExporter\n",
    "from src.preprocess import ERA5MonthlyMeanPreprocessor, VHIPreprocessor\n",
    "from src.engineer import Engineer\n",
    "from src.models import LinearRegression, RecurrentNetwork, Persistence"
   ]
  },
  {
   "cell_type": "markdown",
   "metadata": {},
   "source": [
    "# Exporters"
   ]
  },
  {
   "cell_type": "code",
   "execution_count": 52,
   "metadata": {},
   "outputs": [],
   "source": [
    "data_dir = Path('data')\n",
    "data_dir = Path('/Volumes/Lees_Extend/data/ecmwf_sowc/data2')\n",
    "assert data_dir.exists()\n",
    "\n",
    "e_exporter = ERA5Exporter(data_dir)"
   ]
  },
  {
   "cell_type": "code",
   "execution_count": 54,
   "metadata": {},
   "outputs": [],
   "source": [
    "years = [2010, 2011]\n",
    "\n",
    "for variable in ['2m_temperature', 'total_precipitation', 'evaporation']:\n",
    "    e_exporter.export(variable=variable, granularity=\"monthly\", selection_request={'year': years}, show_api_request=False)"
   ]
  },
  {
   "cell_type": "code",
   "execution_count": 62,
   "metadata": {},
   "outputs": [
    {
     "data": {
      "text/plain": [
       "<matplotlib.collections.QuadMesh at 0x126931f28>"
      ]
     },
     "execution_count": 62,
     "metadata": {},
     "output_type": "execute_result"
    },
    {
     "data": {
      "image/png": "[encoded data removed]",
      "text/plain": [
       "<Figure size 432x288 with 2 Axes>"
      ]
     },
     "metadata": {
      "needs_background": "light"
     },
     "output_type": "display_data"
    }
   ],
   "source": [
    "raw_data = xr.open_dataset(data_dir / 'raw' / 'reanalysis-era5-single-levels-monthly-means/2m_temperature/2010_2011' / '01_12.nc')\n",
    "raw_data.mean(dim='time').t2m.plot()"
   ]
  },
  {
   "cell_type": "markdown",
   "metadata": {},
   "source": [
    "# Preprocessors"
   ]
  },
  {
   "cell_type": "code",
   "execution_count": 57,
   "metadata": {},
   "outputs": [
    {
     "name": "stdout",
     "output_type": "stream",
     "text": [
      "Reading data from /Volumes/Lees_Extend/data/ecmwf_sowc/data2/raw. Writing to /Volumes/Lees_Extend/data/ecmwf_sowc/data2/interim/reanalysis-era5-single-levels-monthly-means_interim\n",
      "Processing 01_12.nc\n",
      "selecting region: kenya from ds\n",
      "Saving to /Volumes/Lees_Extend/data/ecmwf_sowc/data2/interim/reanalysis-era5-single-levels-monthly-means_interim/2010_01_12_2m_temperature_kenya.nc\n",
      "Done for ERA5 01_12.nc\n",
      "Processing 01_12.nc\n",
      "selecting region: kenya from ds\n",
      "Saving to /Volumes/Lees_Extend/data/ecmwf_sowc/data2/interim/reanalysis-era5-single-levels-monthly-means_interim/2010_2011_01_12_2m_temperature_kenya.nc\n",
      "Done for ERA5 01_12.nc\n",
      "Processing 01_12.nc\n",
      "selecting region: kenya from ds\n",
      "Saving to /Volumes/Lees_Extend/data/ecmwf_sowc/data2/interim/reanalysis-era5-single-levels-monthly-means_interim/2010_01_12_evaporation_kenya.nc\n",
      "Done for ERA5 01_12.nc\n",
      "Processing 01_12.nc\n",
      "selecting region: kenya from ds\n",
      "Saving to /Volumes/Lees_Extend/data/ecmwf_sowc/data2/interim/reanalysis-era5-single-levels-monthly-means_interim/2010_2011_01_12_evaporation_kenya.nc\n",
      "Done for ERA5 01_12.nc\n",
      "Processing 01_12.nc\n",
      "selecting region: kenya from ds\n",
      "Saving to /Volumes/Lees_Extend/data/ecmwf_sowc/data2/interim/reanalysis-era5-single-levels-monthly-means_interim/2010_01_12_total_precipitation_kenya.nc\n",
      "Done for ERA5 01_12.nc\n",
      "Processing 01_12.nc\n",
      "selecting region: kenya from ds\n",
      "Saving to /Volumes/Lees_Extend/data/ecmwf_sowc/data2/interim/reanalysis-era5-single-levels-monthly-means_interim/2010_2011_01_12_total_precipitation_kenya.nc\n",
      "Done for ERA5 01_12.nc\n",
      "\n",
      "**** /Volumes/Lees_Extend/data/ecmwf_sowc/data2/interim/reanalysis-era5-single-levels-monthly-means_preprocessed/data_kenya.nc Created! ****\n",
      "\n",
      "[]\n"
     ]
    }
   ],
   "source": [
    "e = ERA5MonthlyMeanPreprocessor(data_dir)\n",
    "e.preprocess()"
   ]
  },
  {
   "cell_type": "code",
   "execution_count": 63,
   "metadata": {},
   "outputs": [
    {
     "data": {
      "text/plain": [
       "<xarray.Dataset>\n",
       "Dimensions:  (lat: 45, lon: 35, time: 24)\n",
       "Coordinates:\n",
       "  * time     (time) datetime64[ns] 2010-01-31 2010-02-28 ... 2011-12-31\n",
       "  * lon      (lon) float32 33.75 34.0 34.25 34.5 34.75 ... 41.5 41.75 42.0 42.25\n",
       "  * lat      (lat) float32 6.0 5.75 5.5 5.25 5.0 ... -4.0 -4.25 -4.5 -4.75 -5.0\n",
       "Data variables:\n",
       "    e        (time, lat, lon) float32 ...\n",
       "    t2m      (time, lat, lon) float32 ...\n",
       "    tp       (time, lat, lon) float32 ..."
      ]
     },
     "execution_count": 63,
     "metadata": {},
     "output_type": "execute_result"
    }
   ],
   "source": [
    "processed_data = xr.open_dataset(data_dir / 'interim/reanalysis-era5-single-levels-monthly-means_preprocessed/data_kenya.nc')\n",
    "processed_data"
   ]
  },
  {
   "cell_type": "markdown",
   "metadata": {},
   "source": [
    "# Engineer"
   ]
  },
  {
   "cell_type": "code",
   "execution_count": 68,
   "metadata": {},
   "outputs": [
    {
     "name": "stdout",
     "output_type": "stream",
     "text": [
      "Processing /Volumes/Lees_Extend/data/ecmwf_sowc/data2/interim/reanalysis-era5-single-levels-monthly-means_preprocessed/data_kenya.nc\n",
      "Generating data for year: 2011, target month: 1\n",
      "Max date: 2011-01-31, max input date: 2010-12-31, min input date: 2010-09-30\n",
      "Saving data to /Volumes/Lees_Extend/data/ecmwf_sowc/data2/features/one_month_forecast/test/2011_1/x.nc\n",
      "Saving data to /Volumes/Lees_Extend/data/ecmwf_sowc/data2/features/one_month_forecast/test/2011_1/y.nc\n",
      "Generating data for year: 2011, target month: 2\n",
      "Max date: 2011-02-28, max input date: 2011-01-31, min input date: 2010-10-31\n",
      "Saving data to /Volumes/Lees_Extend/data/ecmwf_sowc/data2/features/one_month_forecast/test/2011_2/x.nc\n",
      "Saving data to /Volumes/Lees_Extend/data/ecmwf_sowc/data2/features/one_month_forecast/test/2011_2/y.nc\n",
      "Generating data for year: 2011, target month: 3\n",
      "Max date: 2011-03-31, max input date: 2011-02-28, min input date: 2010-11-30\n",
      "Saving data to /Volumes/Lees_Extend/data/ecmwf_sowc/data2/features/one_month_forecast/test/2011_3/x.nc\n",
      "Saving data to /Volumes/Lees_Extend/data/ecmwf_sowc/data2/features/one_month_forecast/test/2011_3/y.nc\n",
      "Generating data for year: 2011, target month: 4\n",
      "Max date: 2011-04-30, max input date: 2011-03-31, min input date: 2010-12-31\n",
      "Saving data to /Volumes/Lees_Extend/data/ecmwf_sowc/data2/features/one_month_forecast/test/2011_4/x.nc\n",
      "Saving data to /Volumes/Lees_Extend/data/ecmwf_sowc/data2/features/one_month_forecast/test/2011_4/y.nc\n",
      "Generating data for year: 2011, target month: 5\n",
      "Max date: 2011-05-31, max input date: 2011-04-30, min input date: 2011-01-31\n",
      "Saving data to /Volumes/Lees_Extend/data/ecmwf_sowc/data2/features/one_month_forecast/test/2011_5/x.nc\n",
      "Saving data to /Volumes/Lees_Extend/data/ecmwf_sowc/data2/features/one_month_forecast/test/2011_5/y.nc\n",
      "Generating data for year: 2011, target month: 6\n",
      "Max date: 2011-06-30, max input date: 2011-05-31, min input date: 2011-02-28\n",
      "Saving data to /Volumes/Lees_Extend/data/ecmwf_sowc/data2/features/one_month_forecast/test/2011_6/x.nc\n",
      "Saving data to /Volumes/Lees_Extend/data/ecmwf_sowc/data2/features/one_month_forecast/test/2011_6/y.nc\n",
      "Generating data for year: 2011, target month: 7\n",
      "Max date: 2011-07-31, max input date: 2011-06-30, min input date: 2011-03-31\n",
      "Saving data to /Volumes/Lees_Extend/data/ecmwf_sowc/data2/features/one_month_forecast/test/2011_7/x.nc\n",
      "Saving data to /Volumes/Lees_Extend/data/ecmwf_sowc/data2/features/one_month_forecast/test/2011_7/y.nc\n",
      "Generating data for year: 2011, target month: 8\n",
      "Max date: 2011-08-31, max input date: 2011-07-31, min input date: 2011-04-30\n",
      "Saving data to /Volumes/Lees_Extend/data/ecmwf_sowc/data2/features/one_month_forecast/test/2011_8/x.nc\n",
      "Saving data to /Volumes/Lees_Extend/data/ecmwf_sowc/data2/features/one_month_forecast/test/2011_8/y.nc\n",
      "Generating data for year: 2011, target month: 9\n",
      "Max date: 2011-09-30, max input date: 2011-08-31, min input date: 2011-05-31\n",
      "Saving data to /Volumes/Lees_Extend/data/ecmwf_sowc/data2/features/one_month_forecast/test/2011_9/x.nc\n",
      "Saving data to /Volumes/Lees_Extend/data/ecmwf_sowc/data2/features/one_month_forecast/test/2011_9/y.nc\n",
      "Generating data for year: 2011, target month: 10\n",
      "Max date: 2011-10-31, max input date: 2011-09-30, min input date: 2011-06-30\n",
      "Saving data to /Volumes/Lees_Extend/data/ecmwf_sowc/data2/features/one_month_forecast/test/2011_10/x.nc\n",
      "Saving data to /Volumes/Lees_Extend/data/ecmwf_sowc/data2/features/one_month_forecast/test/2011_10/y.nc\n",
      "Generating data for year: 2011, target month: 11\n",
      "Max date: 2011-11-30, max input date: 2011-10-31, min input date: 2011-07-31\n",
      "Saving data to /Volumes/Lees_Extend/data/ecmwf_sowc/data2/features/one_month_forecast/test/2011_11/x.nc\n",
      "Saving data to /Volumes/Lees_Extend/data/ecmwf_sowc/data2/features/one_month_forecast/test/2011_11/y.nc\n",
      "Generating data for year: 2011, target month: 12\n",
      "Max date: 2011-12-31, max input date: 2011-11-30, min input date: 2011-08-31\n",
      "Saving data to /Volumes/Lees_Extend/data/ecmwf_sowc/data2/features/one_month_forecast/test/2011_12/x.nc\n",
      "Saving data to /Volumes/Lees_Extend/data/ecmwf_sowc/data2/features/one_month_forecast/test/2011_12/y.nc\n",
      "Generating data for year: 2010, target month: 12\n",
      "Max date: 2010-12-31, max input date: 2010-11-30, min input date: 2010-08-31\n",
      "Saving data to /Volumes/Lees_Extend/data/ecmwf_sowc/data2/features/one_month_forecast/train/2010_12/x.nc\n",
      "Saving data to /Volumes/Lees_Extend/data/ecmwf_sowc/data2/features/one_month_forecast/train/2010_12/y.nc\n",
      "Generating data for year: 2010, target month: 11\n",
      "Max date: 2010-11-30, max input date: 2010-10-31, min input date: 2010-07-31\n",
      "Saving data to /Volumes/Lees_Extend/data/ecmwf_sowc/data2/features/one_month_forecast/train/2010_11/x.nc\n",
      "Saving data to /Volumes/Lees_Extend/data/ecmwf_sowc/data2/features/one_month_forecast/train/2010_11/y.nc\n",
      "Generating data for year: 2010, target month: 10\n",
      "Max date: 2010-10-31, max input date: 2010-09-30, min input date: 2010-06-30\n",
      "Saving data to /Volumes/Lees_Extend/data/ecmwf_sowc/data2/features/one_month_forecast/train/2010_10/x.nc\n",
      "Saving data to /Volumes/Lees_Extend/data/ecmwf_sowc/data2/features/one_month_forecast/train/2010_10/y.nc\n",
      "Generating data for year: 2010, target month: 9\n",
      "Max date: 2010-09-30, max input date: 2010-08-31, min input date: 2010-05-31\n",
      "Saving data to /Volumes/Lees_Extend/data/ecmwf_sowc/data2/features/one_month_forecast/train/2010_9/x.nc\n",
      "Saving data to /Volumes/Lees_Extend/data/ecmwf_sowc/data2/features/one_month_forecast/train/2010_9/y.nc\n",
      "Generating data for year: 2010, target month: 8\n",
      "Max date: 2010-08-31, max input date: 2010-07-31, min input date: 2010-04-30\n",
      "Saving data to /Volumes/Lees_Extend/data/ecmwf_sowc/data2/features/one_month_forecast/train/2010_8/x.nc\n",
      "Saving data to /Volumes/Lees_Extend/data/ecmwf_sowc/data2/features/one_month_forecast/train/2010_8/y.nc\n",
      "Generating data for year: 2010, target month: 7\n",
      "Max date: 2010-07-31, max input date: 2010-06-30, min input date: 2010-03-31\n",
      "Saving data to /Volumes/Lees_Extend/data/ecmwf_sowc/data2/features/one_month_forecast/train/2010_7/x.nc\n",
      "Saving data to /Volumes/Lees_Extend/data/ecmwf_sowc/data2/features/one_month_forecast/train/2010_7/y.nc\n",
      "Generating data for year: 2010, target month: 6\n",
      "Max date: 2010-06-30, max input date: 2010-05-31, min input date: 2010-02-28\n",
      "Saving data to /Volumes/Lees_Extend/data/ecmwf_sowc/data2/features/one_month_forecast/train/2010_6/x.nc\n",
      "Saving data to /Volumes/Lees_Extend/data/ecmwf_sowc/data2/features/one_month_forecast/train/2010_6/y.nc\n",
      "Generating data for year: 2010, target month: 5\n",
      "Max date: 2010-05-31, max input date: 2010-04-30, min input date: 2010-01-31\n",
      "Saving data to /Volumes/Lees_Extend/data/ecmwf_sowc/data2/features/one_month_forecast/train/2010_5/x.nc\n",
      "Saving data to /Volumes/Lees_Extend/data/ecmwf_sowc/data2/features/one_month_forecast/train/2010_5/y.nc\n",
      "Generating data for year: 2010, target month: 4\n",
      "Max date: 2010-04-30, max input date: 2010-03-31, min input date: 2009-12-31\n",
      "Saving data to /Volumes/Lees_Extend/data/ecmwf_sowc/data2/features/one_month_forecast/train/2010_4/x.nc\n",
      "Saving data to /Volumes/Lees_Extend/data/ecmwf_sowc/data2/features/one_month_forecast/train/2010_4/y.nc\n",
      "Generating data for year: 2010, target month: 3\n",
      "Max date: 2010-03-31, max input date: 2010-02-28, min input date: 2009-11-30\n",
      "Wrong number of x values! Got 2 Returning None\n",
      "Generating data for year: 2010, target month: 2\n",
      "Max date: 2010-02-28, max input date: 2010-01-31, min input date: 2009-10-31\n",
      "Wrong number of x values! Got 1 Returning None\n",
      "Generating data for year: 2010, target month: 1\n",
      "Max date: 2010-01-31, max input date: 2009-12-31, min input date: 2009-09-30\n",
      "Wrong number of x values! Got 0 Returning None\n"
     ]
    }
   ],
   "source": [
    "engineer = Engineer(data_dir, process_static=False)\n",
    "engineer.engineer(test_year=2011, target_variable='e', pred_months=3, expected_length=3)"
   ]
  },
  {
   "cell_type": "code",
   "execution_count": 71,
   "metadata": {},
   "outputs": [
    {
     "data": {
      "text/html": [
       "['2011_1', '2011_10', '2011_11', '2011_12', '2011_2', '2011_3', '2011_4', '2011_5', '2011_6', '2011_7', '2011_8', '2011_9']"
      ],
      "text/plain": [
       "['2011_1',\n",
       " '2011_10',\n",
       " '2011_11',\n",
       " '2011_12',\n",
       " '2011_2',\n",
       " '2011_3',\n",
       " '2011_4',\n",
       " '2011_5',\n",
       " '2011_6',\n",
       " '2011_7',\n",
       " '2011_8',\n",
       " '2011_9']"
      ]
     },
     "execution_count": 71,
     "metadata": {},
     "output_type": "execute_result"
    }
   ],
   "source": [
    "[f.name for f in (data_dir / 'features' / 'one_month_forecast' / 'test').iterdir()]"
   ]
  },
  {
   "cell_type": "markdown",
   "metadata": {},
   "source": [
    "# Models"
   ]
  },
  {
   "cell_type": "code",
   "execution_count": 134,
   "metadata": {},
   "outputs": [],
   "source": [
    "rnn = RecurrentNetwork(hidden_size=100, data_folder=data_dir, include_static=False)\n",
    "lr = LinearRegression(data_dir, include_static=False)\n",
    "bline = Persistence(data_dir)"
   ]
  },
  {
   "cell_type": "code",
   "execution_count": 86,
   "metadata": {},
   "outputs": [
    {
     "name": "stdout",
     "output_type": "stream",
     "text": [
      "Training linear_regression for experiment one_month_forecast\n",
      "1.1322370708831878e-05\n",
      "1.9382999686159247e-06\n",
      "1.0205546292865717e-06\n",
      "5.728821401949425e-06\n",
      "1.5650514612800332e-06\n",
      "7.552622737081063e-06\n",
      "2.648170772348162e-06\n",
      "2.6676895972464325e-06\n",
      "5.4551662684908225e-06\n",
      "5.9776213460769575e-06\n",
      "2.3583780053839205e-06\n",
      "7.184275782145047e-06\n",
      "2.731107145254638e-06\n",
      "3.9354981810229935e-06\n",
      "2.769700666623372e-06\n",
      "3.88128594519348e-06\n",
      "5.792869968843382e-06\n",
      "4.802258927488787e-06\n",
      "4.737921569607665e-06\n",
      "4.252921423606261e-06\n",
      "2.9456662064880795e-06\n",
      "4.7726267697127315e-06\n",
      "2.292425895014353e-06\n",
      "8.435936397326903e-06\n",
      "2.9038630327163353e-06\n",
      "2.5835635156589815e-06\n",
      "6.0701439403362215e-06\n",
      "4.5951675135812135e-06\n",
      "4.812951015101491e-06\n",
      "7.470241449377164e-06\n",
      "2.725912107267418e-06\n",
      "5.696216749184744e-06\n",
      "3.4959161932038135e-06\n",
      "1.5552038276889473e-05\n",
      "2.7701413237384938e-06\n",
      "8.16532074605504e-06\n",
      "7.7866035405585e-06\n",
      "1.3638618550923998e-05\n",
      "9.497302832906301e-06\n",
      "8.297284406342265e-06\n",
      "7.164319554397824e-06\n",
      "5.579557811949418e-06\n",
      "2.4017168824281903e-06\n",
      "3.160172689648709e-06\n",
      "6.733855393550081e-06\n",
      "4.571700094634055e-06\n",
      "1.8366089343545304e-06\n",
      "1.2864827718399691e-05\n",
      "1.2764460953802596e-05\n",
      "8.036894842307604e-06\n",
      "1.1527964898036345e-05\n",
      "9.951155106994125e-06\n",
      "7.519286420612592e-06\n",
      "8.202312115751827e-06\n",
      "Epoch 1, train RMSE: 0.00\n",
      "RMSE: 0.002430495201600224\n"
     ]
    }
   ],
   "source": [
    "lr.train()\n",
    "lr.evaluate(save_preds=True)"
   ]
  },
  {
   "cell_type": "code",
   "execution_count": 106,
   "metadata": {},
   "outputs": [
    {
     "name": "stdout",
     "output_type": "stream",
     "text": [
      "Training rnn for experiment one_month_forecast\n",
      "Epoch 1, train smooth L1: 0.0008137960864621198, RMSE: 0.03692509359345953\n",
      "Epoch 2, train smooth L1: 0.000647101538426661, RMSE: 0.03103160036095849\n",
      "Epoch 3, train smooth L1: 0.0003783840474406369, RMSE: 0.022087829039238234\n",
      "Epoch 4, train smooth L1: 0.0005017721295425199, RMSE: 0.02523265416349918\n",
      "Epoch 5, train smooth L1: 0.00045030032562728457, RMSE: 0.026585398043913726\n",
      "Epoch 6, train smooth L1: 0.0002697667897859059, RMSE: 0.020370376139065848\n",
      "Epoch 7, train smooth L1: 0.0002727014115096069, RMSE: 0.01831779745113059\n",
      "Epoch 8, train smooth L1: 0.0003206072781604571, RMSE: 0.02053583021226506\n",
      "Epoch 9, train smooth L1: 0.0003620287955830766, RMSE: 0.018395066282705024\n",
      "Epoch 10, train smooth L1: 0.00021853237488492731, RMSE: 0.016827546384427267\n",
      "Epoch 11, train smooth L1: 7.912453171835902e-05, RMSE: 0.009984615065476406\n",
      "Epoch 12, train smooth L1: 0.00014029346770830334, RMSE: 0.013975406686856338\n",
      "Epoch 13, train smooth L1: 0.00021307282208193068, RMSE: 0.01625946421486731\n",
      "Epoch 14, train smooth L1: 0.00017263252211958187, RMSE: 0.016069611627867603\n",
      "Epoch 15, train smooth L1: 0.00025560012404976415, RMSE: 0.018173884407617188\n",
      "Epoch 16, train smooth L1: 3.409051258476784e-05, RMSE: 0.006771851543875766\n",
      "Epoch 17, train smooth L1: 6.520542129824965e-05, RMSE: 0.00908362228773782\n",
      "Epoch 18, train smooth L1: 4.718135796287647e-05, RMSE: 0.008171910863635017\n",
      "Epoch 19, train smooth L1: 6.843121543330131e-05, RMSE: 0.009615975021598763\n",
      "Epoch 20, train smooth L1: 0.00014495810651211555, RMSE: 0.01357997141805725\n",
      "RMSE: 0.08066583424806595\n"
     ]
    }
   ],
   "source": [
    "rnn.train(num_epochs=10)\n",
    "rnn.evaluate(save_preds=True)"
   ]
  },
  {
   "cell_type": "code",
   "execution_count": 135,
   "metadata": {},
   "outputs": [
    {
     "name": "stdout",
     "output_type": "stream",
     "text": [
      "RMSE: 0.0006736067007295787\n"
     ]
    }
   ],
   "source": [
    "bline.train()\n",
    "bline.evaluate(save_preds=True)"
   ]
  },
  {
   "cell_type": "markdown",
   "metadata": {},
   "source": [
    "# Analysis"
   ]
  },
  {
   "cell_type": "code",
   "execution_count": 136,
   "metadata": {},
   "outputs": [
    {
     "data": {
      "text/html": [
       "['preds_2011_1.nc', 'preds_2011_10.nc', 'preds_2011_11.nc', 'preds_2011_12.nc', 'preds_2011_2.nc', 'preds_2011_3.nc', 'preds_2011_4.nc', 'preds_2011_5.nc', 'preds_2011_6.nc', 'preds_2011_7.nc', 'preds_2011_8.nc', 'preds_2011_9.nc', 'results.json']"
      ],
      "text/plain": [
       "['preds_2011_1.nc',\n",
       " 'preds_2011_10.nc',\n",
       " 'preds_2011_11.nc',\n",
       " 'preds_2011_12.nc',\n",
       " 'preds_2011_2.nc',\n",
       " 'preds_2011_3.nc',\n",
       " 'preds_2011_4.nc',\n",
       " 'preds_2011_5.nc',\n",
       " 'preds_2011_6.nc',\n",
       " 'preds_2011_7.nc',\n",
       " 'preds_2011_8.nc',\n",
       " 'preds_2011_9.nc',\n",
       " 'results.json']"
      ]
     },
     "execution_count": 136,
     "metadata": {},
     "output_type": "execute_result"
    }
   ],
   "source": [
    "[f.name for f in (data_dir / 'models' / 'one_month_forecast' / 'rnn').iterdir()]"
   ]
  },
  {
   "cell_type": "code",
   "execution_count": 150,
   "metadata": {},
   "outputs": [],
   "source": [
    "from src.analysis import read_pred_data, read_true_data\n",
    "from src.analysis import annual_scores"
   ]
  },
  {
   "cell_type": "code",
   "execution_count": 172,
   "metadata": {},
   "outputs": [
    {
     "name": "stdout",
     "output_type": "stream",
     "text": [
      "<xarray.Dataset>\n",
      "Dimensions:  (lat: 45, lon: 35, time: 12)\n",
      "Coordinates:\n",
      "  * lat      (lat) float64 -5.0 -4.75 -4.5 -4.25 -4.0 ... 5.0 5.25 5.5 5.75 6.0\n",
      "  * lon      (lon) float64 33.75 34.0 34.25 34.5 34.75 ... 41.5 41.75 42.0 42.25\n",
      "  * time     (time) datetime64[ns] 2011-01-31 2011-02-28 ... 2011-12-31\n",
      "Data variables:\n",
      "    preds    (lat, lon, time) float32 0.12057733 -0.14767563 ... -0.056904607\n"
     ]
    }
   ],
   "source": [
    "rnn_preds, _ = read_pred_data(data_dir=data_dir, model='rnn')\n",
    "lr_preds, _ = read_pred_data(data_dir=data_dir, model='linear_regression')\n",
    "bline_preds, _ = read_pred_data(data_dir=data_dir, model='previous_month')\n",
    "y_test = read_true_data(data_dir, variable='e')\n",
    "\n",
    "rnn_preds = rnn_preds.compute()\n",
    "pprint(rnn_preds)"
   ]
  },
  {
   "cell_type": "code",
   "execution_count": 177,
   "metadata": {},
   "outputs": [
    {
     "data": {
      "text/plain": [
       "<matplotlib.collections.QuadMesh at 0x12c1b6da0>"
      ]
     },
     "execution_count": 177,
     "metadata": {},
     "output_type": "execute_result"
    },
    {
     "data": {
      "image/png": "[encoded data removed]",
      "text/plain": [
       "<Figure size 432x288 with 2 Axes>"
      ]
     },
     "metadata": {
      "needs_background": "light"
     },
     "output_type": "display_data"
    }
   ],
   "source": [
    "y_test.isel(time=0).plot(vmin=-0.006, vmax=0)"
   ]
  },
  {
   "cell_type": "code",
   "execution_count": 180,
   "metadata": {},
   "outputs": [
    {
     "data": {
      "text/plain": [
       "<matplotlib.collections.QuadMesh at 0x12bad59e8>"
      ]
     },
     "execution_count": 180,
     "metadata": {},
     "output_type": "execute_result"
    },
    {
     "data": {
      "image/png": "[encoded data removed]",
      "text/plain": [
       "<Figure size 432x288 with 2 Axes>"
      ]
     },
     "metadata": {
      "needs_background": "light"
     },
     "output_type": "display_data"
    }
   ],
   "source": [
    "rnn_preds.preds.isel(time=0).plot()"
   ]
  },
  {
   "cell_type": "code",
   "execution_count": 181,
   "metadata": {},
   "outputs": [
    {
     "data": {
      "text/plain": [
       "<matplotlib.collections.QuadMesh at 0x12bc1fcc0>"
      ]
     },
     "execution_count": 181,
     "metadata": {},
     "output_type": "execute_result"
    },
    {
     "data": {
      "image/png": "[encoded data removed]",
      "text/plain": [
       "<Figure size 432x288 with 2 Axes>"
      ]
     },
     "metadata": {
      "needs_background": "light"
     },
     "output_type": "display_data"
    }
   ],
   "source": [
    "lr_preds.preds.isel(time=0).plot(cmap='viridis')"
   ]
  },
  {
   "cell_type": "code",
   "execution_count": 140,
   "metadata": {},
   "outputs": [
    {
     "data": {
      "text/html": [
       "<div>\n",
       "<style scoped>\n",
       "    .dataframe tbody tr th:only-of-type {\n",
       "        vertical-align: middle;\n",
       "    }\n",
       "\n",
       "    .dataframe tbody tr th {\n",
       "        vertical-align: top;\n",
       "    }\n",
       "\n",
       "    .dataframe thead th {\n",
       "        text-align: right;\n",
       "    }\n",
       "</style>\n",
       "<table border=\"1\" class=\"dataframe\">\n",
       "  <thead>\n",
       "    <tr style=\"text-align: right;\">\n",
       "      <th></th>\n",
       "      <th>linear_regression</th>\n",
       "      <th>month</th>\n",
       "      <th>previous_month</th>\n",
       "      <th>rnn</th>\n",
       "      <th>year</th>\n",
       "      <th>metric</th>\n",
       "    </tr>\n",
       "  </thead>\n",
       "  <tbody>\n",
       "    <tr>\n",
       "      <th>0</th>\n",
       "      <td>0.002381</td>\n",
       "      <td>1.0</td>\n",
       "      <td>0.000534</td>\n",
       "      <td>0.126224</td>\n",
       "      <td>2011.0</td>\n",
       "      <td>rmse</td>\n",
       "    </tr>\n",
       "    <tr>\n",
       "      <th>1</th>\n",
       "      <td>0.002310</td>\n",
       "      <td>2.0</td>\n",
       "      <td>0.000401</td>\n",
       "      <td>0.145903</td>\n",
       "      <td>2011.0</td>\n",
       "      <td>rmse</td>\n",
       "    </tr>\n",
       "    <tr>\n",
       "      <th>2</th>\n",
       "      <td>0.002123</td>\n",
       "      <td>3.0</td>\n",
       "      <td>0.000488</td>\n",
       "      <td>0.175159</td>\n",
       "      <td>2011.0</td>\n",
       "      <td>rmse</td>\n",
       "    </tr>\n",
       "    <tr>\n",
       "      <th>3</th>\n",
       "      <td>0.002320</td>\n",
       "      <td>4.0</td>\n",
       "      <td>0.000501</td>\n",
       "      <td>0.011092</td>\n",
       "      <td>2011.0</td>\n",
       "      <td>rmse</td>\n",
       "    </tr>\n",
       "    <tr>\n",
       "      <th>4</th>\n",
       "      <td>0.002387</td>\n",
       "      <td>5.0</td>\n",
       "      <td>0.000828</td>\n",
       "      <td>0.051638</td>\n",
       "      <td>2011.0</td>\n",
       "      <td>rmse</td>\n",
       "    </tr>\n",
       "  </tbody>\n",
       "</table>\n",
       "</div>"
      ],
      "text/plain": [
       "   linear_regression  month  previous_month       rnn    year metric\n",
       "0           0.002381    1.0        0.000534  0.126224  2011.0   rmse\n",
       "1           0.002310    2.0        0.000401  0.145903  2011.0   rmse\n",
       "2           0.002123    3.0        0.000488  0.175159  2011.0   rmse\n",
       "3           0.002320    4.0        0.000501  0.011092  2011.0   rmse\n",
       "4           0.002387    5.0        0.000828  0.051638  2011.0   rmse"
      ]
     },
     "execution_count": 140,
     "metadata": {},
     "output_type": "execute_result"
    }
   ],
   "source": [
    "df = annual_scores(\n",
    "    models=['linear_regression', 'rnn', 'previous_month'], data_path=data_dir, pred_year=2011, target_var='e', to_dataframe=True, verbose=False\n",
    ")\n",
    "df.head()"
   ]
  },
  {
   "cell_type": "code",
   "execution_count": 147,
   "metadata": {},
   "outputs": [
    {
     "data": {
      "text/plain": [
       "<matplotlib.axes._subplots.AxesSubplot at 0x129d43a58>"
      ]
     },
     "execution_count": 147,
     "metadata": {},
     "output_type": "execute_result"
    },
    {
     "data": {
      "image/png": "[encoded data removed]",
      "text/plain": [
       "<Figure size 432x288 with 1 Axes>"
      ]
     },
     "metadata": {
      "needs_background": "light"
     },
     "output_type": "display_data"
    }
   ],
   "source": [
    "df.where(df.metric == 'rmse').drop(columns=['year', 'rnn']).plot(x='month')"
   ]
  },
  {
   "cell_type": "code",
   "execution_count": 149,
   "metadata": {},
   "outputs": [
    {
     "data": {
      "image/png": "[encoded data removed]",
      "text/plain": [
       "<Figure size 432x288 with 1 Axes>"
      ]
     },
     "metadata": {
      "needs_background": "light"
     },
     "output_type": "display_data"
    }
   ],
   "source": [
    "df.where(df.metric == 'rmse').drop(columns=['year']).plot(x='month');"
   ]
  },
  {
   "cell_type": "code",
   "execution_count": null,
   "metadata": {},
   "outputs": [],
   "source": []
  }
 ],
 "metadata": {
  "kernelspec": {
   "display_name": "Python 3",
   "language": "python",
   "name": "python3"
  },
  "language_info": {
   "codemirror_mode": {
    "name": "ipython",
    "version": 3
   },
   "file_extension": ".py",
   "mimetype": "text/x-python",
   "name": "python",
   "nbconvert_exporter": "python",
   "pygments_lexer": "ipython3",
   "version": "3.7.0"
  }
 },
 "nbformat": 4,
 "nbformat_minor": 2
}
