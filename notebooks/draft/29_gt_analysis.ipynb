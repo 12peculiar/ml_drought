{
 "cells": [
  {
   "cell_type": "markdown",
   "metadata": {},
   "source": [
    "Getting RMSE for the regions of interest"
   ]
  },
  {
   "cell_type": "code",
   "execution_count": 1,
   "metadata": {},
   "outputs": [],
   "source": [
    "import xarray as xr\n",
    "from pathlib import Path\n",
    "import pandas as pd\n",
    "import numpy as np\n",
    "\n",
    "from typing import Tuple, Dict"
   ]
  },
  {
   "cell_type": "markdown",
   "metadata": {},
   "source": [
    "Parameters:\n",
    "    \n",
    "```python\n",
    "always_ignore_vars = [\"ndvi\", \"p84.162\", \"sp\", \"tp\", \"Eb\"]\n",
    "rnn(  # earnn(\n",
    "    experiment=\"one_month_forecast\",\n",
    "    include_pred_month=True,\n",
    "    surrounding_pixels=None,\n",
    "    pretrained=False,\n",
    "    explain=False,\n",
    "    static=\"features\",\n",
    "    ignore_vars=always_ignore_vars,\n",
    "    num_epochs=50,\n",
    "    early_stopping=5,\n",
    "    hidden_size=256,\n",
    "    static_embedding_size=64,  # Not used, since static = \"features\"\n",
    "    predict_delta=True,\n",
    "    normalize_y=True,\n",
    "    include_prev_y=True,  # True for the LSTM, false for the EA-LSTM - significant difference in performance for the LSTM\n",
    "    include_latlons=True,\n",
    ")\n",
    "```"
   ]
  },
  {
   "cell_type": "code",
   "execution_count": 2,
   "metadata": {},
   "outputs": [],
   "source": [
    "data_dir = Path(\"../../data\")\n",
    "assert data_dir.exists()"
   ]
  },
  {
   "cell_type": "code",
   "execution_count": 3,
   "metadata": {},
   "outputs": [],
   "source": [
    "district_map = xr.open_dataset(data_dir / \"analysis/boundaries_preprocessed/district_l2_kenya.nc\")"
   ]
  },
  {
   "cell_type": "code",
   "execution_count": 4,
   "metadata": {},
   "outputs": [],
   "source": [
    "def analyze_region(\n",
    "        region_name: str, \n",
    "        district_map: xr.Dataset, \n",
    "        model_path: Path, \n",
    "        true_vals_path: Path) -> Tuple[float, float]:\n",
    "\n",
    "    region_lookup: Dict = dict(\n",
    "            zip(\n",
    "                [v.strip() for v in district_map.attrs[\"values\"].split(\",\")],\n",
    "                [int(k.strip()) for k in district_map.attrs[\"keys\"].split(\",\")],\n",
    "            )\n",
    "        )\n",
    "    \n",
    "    district_int = region_lookup[region_name]\n",
    "    \n",
    "    rmse: List[np.ndarray] = []\n",
    "    \n",
    "    for file_name in true_vals_path.glob(\"*\"):\n",
    "        year, month = file_name.name.split(\"_\")\n",
    "        \n",
    "        true_file = xr.open_dataset(file_name / \"y.nc\").where(district_map.district_l2 == district_int).rename({\"VCI\": \"preds\"}).isel(time=0)\n",
    "        model_file = xr.open_dataset(model_path / f\"preds_{year}_{month}.nc\").where(district_map.district_l2 == district_int)\n",
    "        \n",
    "        model_err = (model_file - true_file).preds.values\n",
    "        model_err = model_err[~np.isnan(model_err)]\n",
    "        rmse.append(np.sqrt(model_err ** 2))\n",
    "    \n",
    "    return np.concatenate(rmse).mean()"
   ]
  },
  {
   "cell_type": "code",
   "execution_count": 11,
   "metadata": {},
   "outputs": [],
   "source": [
    "results: Dict[str, Dict[str, float]] = {}\n",
    "for model in [\"ealstm\", \"ealstm_prev_y\", \"previous_month\", \"rnn\", \"rnn_prev_y\"]:\n",
    "    results[model] = {}\n",
    "    for region in [\"TURKANA\", \"MANDERA\", \"MARSABIT\", \"WAJIR\"]:\n",
    "        results[model][region] = analyze_region(region, district_map, data_dir / f\"models/one_month_forecast/{model}\", \n",
    "                data_dir / \"features/one_month_forecast/test\")"
   ]
  },
  {
   "cell_type": "code",
   "execution_count": 12,
   "metadata": {},
   "outputs": [
    {
     "data": {
      "text/plain": [
       "{'ealstm': {'TURKANA': 10.24743413984095,\n",
       "  'MANDERA': 8.302042759797557,\n",
       "  'MARSABIT': 8.59926364998737,\n",
       "  'WAJIR': 7.720248409576625},\n",
       " 'ealstm_prev_y': {'TURKANA': 10.380956926503991,\n",
       "  'MANDERA': 9.136506767119,\n",
       "  'MARSABIT': 8.688602326238922,\n",
       "  'WAJIR': 8.413396339210939},\n",
       " 'previous_month': {'TURKANA': 11.744256204752439,\n",
       "  'MANDERA': 12.204906110469631,\n",
       "  'MARSABIT': 10.453345229680162,\n",
       "  'WAJIR': 10.490208150497049},\n",
       " 'rnn': {'TURKANA': 12.79268367431508,\n",
       "  'MANDERA': 12.817927512766369,\n",
       "  'MARSABIT': 12.751116392970431,\n",
       "  'WAJIR': 12.912766885229038},\n",
       " 'rnn_prev_y': {'TURKANA': 10.551420846362797,\n",
       "  'MANDERA': 9.583836185529341,\n",
       "  'MARSABIT': 8.877953046433564,\n",
       "  'WAJIR': 8.849816731547334}}"
      ]
     },
     "execution_count": 12,
     "metadata": {},
     "output_type": "execute_result"
    }
   ],
   "source": [
    "results"
   ]
  },
  {
   "cell_type": "code",
   "execution_count": 7,
   "metadata": {},
   "outputs": [],
   "source": [
    "# This assumes the region level analysis has already been run\n",
    "data = pd.read_csv(data_dir / \"analysis/region_analysis/regional_error_metrics_one_month_forecast_admin.csv\")"
   ]
  },
  {
   "cell_type": "code",
   "execution_count": 8,
   "metadata": {},
   "outputs": [
    {
     "name": "stdout",
     "output_type": "stream",
     "text": [
      "For previous_month in MANDERA, r2: 0.3928677125057527, rmse: 12.640922267624708\n",
      "For previous_month in MARSABIT, r2: 0.6490734925901813, rmse: 8.064530042145838\n",
      "For previous_month in TURKANA, r2: 0.5859545537398633, rmse: 8.288133161479195\n",
      "For previous_month in WAJIR, r2: 0.5443380466305261, rmse: 10.459842246254855\n",
      "For rnn_prev_y in MANDERA, r2: 0.6992677073827819, rmse: 8.896662764883079\n",
      "For rnn_prev_y in MARSABIT, r2: 0.8246640355259878, rmse: 5.7004150806802425\n",
      "For rnn_prev_y in TURKANA, r2: 0.7651217818680127, rmse: 6.242435814085761\n",
      "For rnn_prev_y in WAJIR, r2: 0.731797264116236, rmse: 8.024820977148295\n",
      "For ealstm in MANDERA, r2: 0.8277096459523497, rmse: 6.7339141880843965\n",
      "For ealstm in MARSABIT, r2: 0.8532328709661363, rmse: 5.215373026119667\n",
      "For ealstm in TURKANA, r2: 0.8013903427422779, rmse: 5.740277591398884\n",
      "For ealstm in WAJIR, r2: 0.8265186721970302, rmse: 6.454017216541415\n"
     ]
    }
   ],
   "source": [
    "for model in [\"previous_month\", \"rnn_prev_y\", \"ealstm\"]:\n",
    "    for region in [\"MANDERA\", \"MARSABIT\", \"TURKANA\", \"WAJIR\"]:\n",
    "        row = data[(data.model == model) & (data.region_name == region) & \n",
    "                  (data.admin_level_name == \"district_l2_kenya\")]\n",
    "        print(f\"For {model} in {region}, r2: {row.r2.iloc[0]}, rmse: {row.rmse.iloc[0]}\")"
   ]
  }
 ],
 "metadata": {
  "kernelspec": {
   "display_name": "Python 3",
   "language": "python",
   "name": "python3"
  },
  "language_info": {
   "codemirror_mode": {
    "name": "ipython",
    "version": 3
   },
   "file_extension": ".py",
   "mimetype": "text/x-python",
   "name": "python",
   "nbconvert_exporter": "python",
   "pygments_lexer": "ipython3",
   "version": "3.7.0"
  }
 },
 "nbformat": 4,
 "nbformat_minor": 2
}
